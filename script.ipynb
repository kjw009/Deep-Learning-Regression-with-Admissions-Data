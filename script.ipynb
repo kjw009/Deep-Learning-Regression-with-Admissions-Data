{
 "cells": [
  {
   "cell_type": "code",
   "execution_count": 41,
   "metadata": {},
   "outputs": [],
   "source": [
    "# Import basic modules\n",
    "import pandas as pd\n",
    "import numpy as np\n",
    "import matplotlib.pyplot as plt\n",
    "\n",
    "# TensorFlow modules\n",
    "import tensorflow as tf\n",
    "from tensorflow\timport keras\n",
    "\n",
    "# Scikit-learn modules\n",
    "from sklearn.model_selection import train_test_split\n",
    "from sklearn.preprocessing import StandardScaler\n",
    "from sklearn.preprocessing import Normalizer\n",
    "from sklearn.metrics import r2_score"
   ]
  },
  {
   "cell_type": "code",
   "execution_count": 42,
   "metadata": {},
   "outputs": [
    {
     "name": "stdout",
     "output_type": "stream",
     "text": [
      "   Serial No.  GRE Score  TOEFL Score  University Rating  SOP  LOR   CGPA  \\\n",
      "0           1        337          118                  4  4.5   4.5  9.65   \n",
      "1           2        324          107                  4  4.0   4.5  8.87   \n",
      "2           3        316          104                  3  3.0   3.5  8.00   \n",
      "3           4        322          110                  3  3.5   2.5  8.67   \n",
      "4           5        314          103                  2  2.0   3.0  8.21   \n",
      "\n",
      "   Research  Chance of Admit   \n",
      "0         1              0.92  \n",
      "1         1              0.76  \n",
      "2         1              0.72  \n",
      "3         1              0.80  \n",
      "4         0              0.65  \n"
     ]
    }
   ],
   "source": [
    "# Read csv \n",
    "df = pd.read_csv(\"admissions_data.csv\")\n",
    "print(df.head())"
   ]
  },
  {
   "cell_type": "code",
   "execution_count": 43,
   "metadata": {},
   "outputs": [],
   "source": [
    "# Split date into features and labels\n",
    "features = df.iloc[:, 1:8]\n",
    "labels = df.iloc[:,-1]"
   ]
  },
  {
   "cell_type": "code",
   "execution_count": 44,
   "metadata": {},
   "outputs": [],
   "source": [
    "# Normalise date\n",
    "scaler = StandardScaler()\n",
    "features = scaler.fit_transform(features)"
   ]
  },
  {
   "cell_type": "code",
   "execution_count": 45,
   "metadata": {},
   "outputs": [],
   "source": [
    "# Split our training and test set\n",
    "X_train, X_test, y_train, y_test = train_test_split(features, labels, test_size=0.25, random_state=42)"
   ]
  },
  {
   "cell_type": "code",
   "execution_count": 46,
   "metadata": {},
   "outputs": [
    {
     "name": "stdout",
     "output_type": "stream",
     "text": [
      "Model: \"sequential_4\"\n",
      "_________________________________________________________________\n",
      " Layer (type)                Output Shape              Param #   \n",
      "=================================================================\n",
      " dense_12 (Dense)            (None, 16)                128       \n",
      "                                                                 \n",
      " dropout_8 (Dropout)         (None, 16)                0         \n",
      "                                                                 \n",
      " dense_13 (Dense)            (None, 8)                 136       \n",
      "                                                                 \n",
      " dropout_9 (Dropout)         (None, 8)                 0         \n",
      "                                                                 \n",
      " dense_14 (Dense)            (None, 1)                 9         \n",
      "                                                                 \n",
      "=================================================================\n",
      "Total params: 273\n",
      "Trainable params: 273\n",
      "Non-trainable params: 0\n",
      "_________________________________________________________________\n"
     ]
    }
   ],
   "source": [
    "# Build the model\n",
    "model = tf.keras.Sequential()\n",
    "model.add(tf.keras.Input(shape=(features.shape[1])))\n",
    "model.add(tf.keras.layers.Dense(16, activation='relu'))\n",
    "model.add(tf.keras.layers.Dropout(0.1))\n",
    "model.add(tf.keras.layers.Dense(8, activation='relu'))\n",
    "model.add(tf.keras.layers.Dropout(0.2))\n",
    "model.add(tf.keras.layers.Dense(1))\n",
    "\n",
    "# Print model summary\n",
    "model.summary()\n",
    "\n",
    "# Configure optimiser\n",
    "opt = tf.keras.optimizers.Adam(learning_rate=0.005)\n",
    "\n",
    "# Compile model\n",
    "model.compile(loss='mse', metrics=['mae'], optimizer=opt)"
   ]
  },
  {
   "cell_type": "code",
   "execution_count": 47,
   "metadata": {},
   "outputs": [
    {
     "name": "stdout",
     "output_type": "stream",
     "text": [
      "Epoch 1/100\n",
      "36/36 [==============================] - 1s 5ms/step - loss: 0.2009 - mae: 0.3665 - val_loss: 0.0691 - val_mae: 0.2261\n",
      "Epoch 2/100\n",
      "36/36 [==============================] - 0s 2ms/step - loss: 0.0776 - mae: 0.2143 - val_loss: 0.0324 - val_mae: 0.1550\n",
      "Epoch 3/100\n",
      "36/36 [==============================] - 0s 2ms/step - loss: 0.0530 - mae: 0.1794 - val_loss: 0.0174 - val_mae: 0.1090\n",
      "Epoch 4/100\n",
      "36/36 [==============================] - 0s 2ms/step - loss: 0.0343 - mae: 0.1501 - val_loss: 0.0152 - val_mae: 0.1043\n",
      "Epoch 5/100\n",
      "36/36 [==============================] - 0s 2ms/step - loss: 0.0281 - mae: 0.1335 - val_loss: 0.0127 - val_mae: 0.0898\n",
      "Epoch 6/100\n",
      "36/36 [==============================] - 0s 2ms/step - loss: 0.0233 - mae: 0.1205 - val_loss: 0.0085 - val_mae: 0.0694\n",
      "Epoch 7/100\n",
      "36/36 [==============================] - 0s 2ms/step - loss: 0.0222 - mae: 0.1187 - val_loss: 0.0100 - val_mae: 0.0835\n",
      "Epoch 8/100\n",
      "36/36 [==============================] - 0s 2ms/step - loss: 0.0197 - mae: 0.1095 - val_loss: 0.0086 - val_mae: 0.0784\n",
      "Epoch 9/100\n",
      "36/36 [==============================] - 0s 2ms/step - loss: 0.0124 - mae: 0.0882 - val_loss: 0.0060 - val_mae: 0.0591\n",
      "Epoch 10/100\n",
      "36/36 [==============================] - 0s 2ms/step - loss: 0.0136 - mae: 0.0907 - val_loss: 0.0087 - val_mae: 0.0807\n",
      "Epoch 11/100\n",
      "36/36 [==============================] - 0s 2ms/step - loss: 0.0103 - mae: 0.0798 - val_loss: 0.0054 - val_mae: 0.0570\n",
      "Epoch 12/100\n",
      "36/36 [==============================] - 0s 2ms/step - loss: 0.0099 - mae: 0.0780 - val_loss: 0.0065 - val_mae: 0.0676\n",
      "Epoch 13/100\n",
      "36/36 [==============================] - 0s 2ms/step - loss: 0.0105 - mae: 0.0798 - val_loss: 0.0067 - val_mae: 0.0684\n",
      "Epoch 14/100\n",
      "36/36 [==============================] - 0s 2ms/step - loss: 0.0083 - mae: 0.0715 - val_loss: 0.0049 - val_mae: 0.0526\n",
      "Epoch 15/100\n",
      "36/36 [==============================] - 0s 2ms/step - loss: 0.0097 - mae: 0.0770 - val_loss: 0.0055 - val_mae: 0.0598\n",
      "Epoch 16/100\n",
      "36/36 [==============================] - 0s 2ms/step - loss: 0.0091 - mae: 0.0763 - val_loss: 0.0059 - val_mae: 0.0628\n",
      "Epoch 17/100\n",
      "36/36 [==============================] - 0s 2ms/step - loss: 0.0099 - mae: 0.0792 - val_loss: 0.0049 - val_mae: 0.0510\n",
      "Epoch 18/100\n",
      "36/36 [==============================] - 0s 2ms/step - loss: 0.0089 - mae: 0.0749 - val_loss: 0.0055 - val_mae: 0.0584\n",
      "Epoch 19/100\n",
      "36/36 [==============================] - 0s 2ms/step - loss: 0.0091 - mae: 0.0741 - val_loss: 0.0053 - val_mae: 0.0555\n",
      "Epoch 20/100\n",
      "36/36 [==============================] - 0s 2ms/step - loss: 0.0083 - mae: 0.0723 - val_loss: 0.0054 - val_mae: 0.0566\n",
      "Epoch 21/100\n",
      "36/36 [==============================] - 0s 2ms/step - loss: 0.0083 - mae: 0.0706 - val_loss: 0.0049 - val_mae: 0.0528\n",
      "Epoch 22/100\n",
      "36/36 [==============================] - 0s 2ms/step - loss: 0.0091 - mae: 0.0756 - val_loss: 0.0048 - val_mae: 0.0517\n",
      "Epoch 23/100\n",
      "36/36 [==============================] - 0s 2ms/step - loss: 0.0079 - mae: 0.0697 - val_loss: 0.0051 - val_mae: 0.0544\n",
      "Epoch 24/100\n",
      "36/36 [==============================] - 0s 2ms/step - loss: 0.0079 - mae: 0.0695 - val_loss: 0.0052 - val_mae: 0.0547\n",
      "Epoch 25/100\n",
      "36/36 [==============================] - 0s 2ms/step - loss: 0.0082 - mae: 0.0690 - val_loss: 0.0050 - val_mae: 0.0546\n",
      "Epoch 26/100\n",
      "36/36 [==============================] - 0s 2ms/step - loss: 0.0075 - mae: 0.0677 - val_loss: 0.0045 - val_mae: 0.0493\n",
      "Epoch 27/100\n",
      "36/36 [==============================] - 0s 2ms/step - loss: 0.0072 - mae: 0.0670 - val_loss: 0.0047 - val_mae: 0.0521\n",
      "Epoch 28/100\n",
      "36/36 [==============================] - 0s 2ms/step - loss: 0.0065 - mae: 0.0624 - val_loss: 0.0046 - val_mae: 0.0530\n",
      "Epoch 29/100\n",
      "36/36 [==============================] - 0s 2ms/step - loss: 0.0081 - mae: 0.0698 - val_loss: 0.0043 - val_mae: 0.0497\n",
      "Epoch 30/100\n",
      "36/36 [==============================] - 0s 2ms/step - loss: 0.0072 - mae: 0.0646 - val_loss: 0.0040 - val_mae: 0.0480\n",
      "Epoch 31/100\n",
      "36/36 [==============================] - 0s 2ms/step - loss: 0.0067 - mae: 0.0634 - val_loss: 0.0040 - val_mae: 0.0497\n",
      "Epoch 32/100\n",
      "36/36 [==============================] - 0s 2ms/step - loss: 0.0063 - mae: 0.0634 - val_loss: 0.0045 - val_mae: 0.0524\n",
      "Epoch 33/100\n",
      "36/36 [==============================] - 0s 2ms/step - loss: 0.0071 - mae: 0.0647 - val_loss: 0.0046 - val_mae: 0.0536\n",
      "Epoch 34/100\n",
      "36/36 [==============================] - 0s 2ms/step - loss: 0.0065 - mae: 0.0643 - val_loss: 0.0044 - val_mae: 0.0473\n",
      "Epoch 35/100\n",
      "36/36 [==============================] - 0s 2ms/step - loss: 0.0079 - mae: 0.0675 - val_loss: 0.0040 - val_mae: 0.0488\n",
      "Epoch 36/100\n",
      "36/36 [==============================] - 0s 2ms/step - loss: 0.0064 - mae: 0.0615 - val_loss: 0.0051 - val_mae: 0.0577\n",
      "Epoch 37/100\n",
      "36/36 [==============================] - 0s 2ms/step - loss: 0.0054 - mae: 0.0583 - val_loss: 0.0039 - val_mae: 0.0469\n",
      "Epoch 38/100\n",
      "36/36 [==============================] - 0s 2ms/step - loss: 0.0059 - mae: 0.0575 - val_loss: 0.0043 - val_mae: 0.0518\n",
      "Epoch 39/100\n",
      "36/36 [==============================] - 0s 2ms/step - loss: 0.0070 - mae: 0.0657 - val_loss: 0.0042 - val_mae: 0.0476\n",
      "Epoch 40/100\n",
      "36/36 [==============================] - 0s 2ms/step - loss: 0.0064 - mae: 0.0611 - val_loss: 0.0038 - val_mae: 0.0454\n",
      "Epoch 41/100\n",
      "36/36 [==============================] - 0s 4ms/step - loss: 0.0071 - mae: 0.0646 - val_loss: 0.0039 - val_mae: 0.0484\n",
      "Epoch 42/100\n",
      "36/36 [==============================] - 0s 2ms/step - loss: 0.0066 - mae: 0.0627 - val_loss: 0.0043 - val_mae: 0.0514\n",
      "Epoch 43/100\n",
      "36/36 [==============================] - 0s 2ms/step - loss: 0.0057 - mae: 0.0592 - val_loss: 0.0037 - val_mae: 0.0443\n",
      "Epoch 44/100\n",
      "36/36 [==============================] - 0s 2ms/step - loss: 0.0060 - mae: 0.0606 - val_loss: 0.0040 - val_mae: 0.0490\n",
      "Epoch 45/100\n",
      "36/36 [==============================] - 0s 2ms/step - loss: 0.0062 - mae: 0.0612 - val_loss: 0.0037 - val_mae: 0.0490\n",
      "Epoch 46/100\n",
      "36/36 [==============================] - 0s 2ms/step - loss: 0.0062 - mae: 0.0581 - val_loss: 0.0034 - val_mae: 0.0429\n",
      "Epoch 47/100\n",
      "36/36 [==============================] - 0s 2ms/step - loss: 0.0068 - mae: 0.0631 - val_loss: 0.0038 - val_mae: 0.0484\n",
      "Epoch 48/100\n",
      "36/36 [==============================] - 0s 2ms/step - loss: 0.0065 - mae: 0.0600 - val_loss: 0.0038 - val_mae: 0.0522\n",
      "Epoch 49/100\n",
      "36/36 [==============================] - 0s 2ms/step - loss: 0.0058 - mae: 0.0603 - val_loss: 0.0034 - val_mae: 0.0455\n",
      "Epoch 50/100\n",
      "36/36 [==============================] - 0s 2ms/step - loss: 0.0060 - mae: 0.0579 - val_loss: 0.0029 - val_mae: 0.0386\n",
      "Epoch 51/100\n",
      "36/36 [==============================] - 0s 2ms/step - loss: 0.0059 - mae: 0.0593 - val_loss: 0.0033 - val_mae: 0.0459\n",
      "Epoch 52/100\n",
      "36/36 [==============================] - 0s 2ms/step - loss: 0.0059 - mae: 0.0602 - val_loss: 0.0036 - val_mae: 0.0475\n",
      "Epoch 53/100\n",
      "36/36 [==============================] - 0s 2ms/step - loss: 0.0061 - mae: 0.0610 - val_loss: 0.0038 - val_mae: 0.0495\n",
      "Epoch 54/100\n",
      "36/36 [==============================] - 0s 2ms/step - loss: 0.0064 - mae: 0.0606 - val_loss: 0.0036 - val_mae: 0.0480\n",
      "Epoch 55/100\n",
      "36/36 [==============================] - 0s 2ms/step - loss: 0.0054 - mae: 0.0558 - val_loss: 0.0034 - val_mae: 0.0447\n",
      "Epoch 56/100\n",
      "36/36 [==============================] - 0s 2ms/step - loss: 0.0057 - mae: 0.0583 - val_loss: 0.0034 - val_mae: 0.0447\n",
      "Epoch 57/100\n",
      "36/36 [==============================] - 0s 2ms/step - loss: 0.0060 - mae: 0.0575 - val_loss: 0.0034 - val_mae: 0.0472\n",
      "Epoch 58/100\n",
      "36/36 [==============================] - 0s 2ms/step - loss: 0.0058 - mae: 0.0574 - val_loss: 0.0035 - val_mae: 0.0467\n",
      "Epoch 59/100\n",
      "36/36 [==============================] - 0s 2ms/step - loss: 0.0056 - mae: 0.0565 - val_loss: 0.0033 - val_mae: 0.0470\n",
      "Epoch 60/100\n",
      "36/36 [==============================] - 0s 2ms/step - loss: 0.0059 - mae: 0.0605 - val_loss: 0.0029 - val_mae: 0.0413\n",
      "Epoch 61/100\n",
      "36/36 [==============================] - 0s 2ms/step - loss: 0.0056 - mae: 0.0559 - val_loss: 0.0037 - val_mae: 0.0484\n",
      "Epoch 62/100\n",
      "36/36 [==============================] - 0s 2ms/step - loss: 0.0057 - mae: 0.0581 - val_loss: 0.0027 - val_mae: 0.0390\n",
      "Epoch 63/100\n",
      "36/36 [==============================] - 0s 2ms/step - loss: 0.0053 - mae: 0.0551 - val_loss: 0.0038 - val_mae: 0.0511\n",
      "Epoch 64/100\n",
      "36/36 [==============================] - 0s 2ms/step - loss: 0.0055 - mae: 0.0561 - val_loss: 0.0036 - val_mae: 0.0466\n",
      "Epoch 65/100\n",
      "36/36 [==============================] - 0s 2ms/step - loss: 0.0057 - mae: 0.0570 - val_loss: 0.0029 - val_mae: 0.0413\n",
      "Epoch 66/100\n",
      "36/36 [==============================] - 0s 2ms/step - loss: 0.0057 - mae: 0.0575 - val_loss: 0.0036 - val_mae: 0.0488\n",
      "Epoch 67/100\n",
      "36/36 [==============================] - 0s 2ms/step - loss: 0.0056 - mae: 0.0570 - val_loss: 0.0032 - val_mae: 0.0408\n",
      "Epoch 68/100\n",
      "36/36 [==============================] - 0s 2ms/step - loss: 0.0060 - mae: 0.0594 - val_loss: 0.0033 - val_mae: 0.0454\n",
      "Epoch 69/100\n",
      "36/36 [==============================] - 0s 2ms/step - loss: 0.0055 - mae: 0.0570 - val_loss: 0.0033 - val_mae: 0.0466\n",
      "Epoch 70/100\n",
      "36/36 [==============================] - 0s 2ms/step - loss: 0.0059 - mae: 0.0582 - val_loss: 0.0034 - val_mae: 0.0436\n",
      "Epoch 71/100\n",
      "36/36 [==============================] - 0s 2ms/step - loss: 0.0049 - mae: 0.0551 - val_loss: 0.0035 - val_mae: 0.0481\n",
      "Epoch 72/100\n",
      "36/36 [==============================] - 0s 2ms/step - loss: 0.0063 - mae: 0.0609 - val_loss: 0.0034 - val_mae: 0.0468\n",
      "Epoch 73/100\n",
      "36/36 [==============================] - 0s 2ms/step - loss: 0.0053 - mae: 0.0575 - val_loss: 0.0031 - val_mae: 0.0403\n",
      "Epoch 74/100\n",
      "36/36 [==============================] - 0s 2ms/step - loss: 0.0050 - mae: 0.0548 - val_loss: 0.0036 - val_mae: 0.0485\n",
      "Epoch 75/100\n",
      "36/36 [==============================] - 0s 2ms/step - loss: 0.0050 - mae: 0.0549 - val_loss: 0.0038 - val_mae: 0.0497\n",
      "Epoch 76/100\n",
      "36/36 [==============================] - 0s 2ms/step - loss: 0.0055 - mae: 0.0567 - val_loss: 0.0036 - val_mae: 0.0481\n",
      "Epoch 77/100\n",
      "36/36 [==============================] - 0s 2ms/step - loss: 0.0055 - mae: 0.0568 - val_loss: 0.0042 - val_mae: 0.0535\n",
      "Epoch 78/100\n",
      "36/36 [==============================] - 0s 2ms/step - loss: 0.0054 - mae: 0.0577 - val_loss: 0.0033 - val_mae: 0.0407\n",
      "Epoch 79/100\n",
      "36/36 [==============================] - 0s 2ms/step - loss: 0.0059 - mae: 0.0590 - val_loss: 0.0029 - val_mae: 0.0391\n",
      "Epoch 80/100\n",
      "36/36 [==============================] - 0s 2ms/step - loss: 0.0059 - mae: 0.0568 - val_loss: 0.0031 - val_mae: 0.0415\n",
      "Epoch 81/100\n",
      "36/36 [==============================] - 0s 2ms/step - loss: 0.0052 - mae: 0.0560 - val_loss: 0.0030 - val_mae: 0.0409\n",
      "Epoch 82/100\n",
      "36/36 [==============================] - 0s 2ms/step - loss: 0.0047 - mae: 0.0537 - val_loss: 0.0042 - val_mae: 0.0547\n",
      "Epoch 82: early stopping\n"
     ]
    }
   ],
   "source": [
    "# apply early stopping for efficiency\n",
    "es = tf.keras.callbacks.EarlyStopping(monitor='val_loss', mode='min', verbose=1, patience=20)\n",
    "\n",
    "# Train model with h 100 epochs and a batch size of 8. Validation split at 0.1. Save history as a variable.\n",
    "history = model.fit(X_train, y_train, epochs = 100, batch_size = 8, verbose = 1, validation_split=0.25, callbacks=[es])"
   ]
  },
  {
   "cell_type": "code",
   "execution_count": 48,
   "metadata": {},
   "outputs": [
    {
     "name": "stdout",
     "output_type": "stream",
     "text": [
      "Mean Absolute Error:  0.05405658110976219\n",
      "4/4 [==============================] - 0s 1ms/step\n",
      "0.769707475500984\n"
     ]
    }
   ],
   "source": [
    "# Evalute the model and print performance\n",
    "val_mse, val_mae = model.evaluate(X_test, y_test, verbose=0)\n",
    "print(\"Mean Absolute Error: \", val_mae)\n",
    "\n",
    "# Evauate r-squared score\n",
    "y_pred = model.predict(X_test)\n",
    "print(r2_score(y_test,y_pred))"
   ]
  },
  {
   "cell_type": "code",
   "execution_count": 49,
   "metadata": {},
   "outputs": [
    {
     "data": {
      "image/png": "[encoded data removed]",
      "text/plain": [
       "<Figure size 640x480 with 2 Axes>"
      ]
     },
     "metadata": {},
     "output_type": "display_data"
    }
   ],
   "source": [
    "# Plot mean absolute error over each epoch\n",
    "fig = plt.figure()\n",
    "ax1 = fig.add_subplot(2, 1, 1)\n",
    "ax1.plot(history.history['mae'])\n",
    "ax1.plot(history.history['val_mae'])\n",
    "ax1.set_title('model mae')\n",
    "ax1.set_ylabel('MAE')\n",
    "ax1.set_xlabel('epoch')\n",
    "ax1.legend(['train', 'validation'], loc='upper left')\n",
    "\n",
    "# Plot loss and val_loss over each epoch\n",
    "ax2 = fig.add_subplot(2, 1, 2)\n",
    "ax2.plot(history.history['loss'])\n",
    "ax2.plot(history.history['val_loss'])\n",
    "ax2.set_title('model loss')\n",
    "ax2.set_ylabel('loss')\n",
    "ax2.set_xlabel('epoch')\n",
    "ax2.legend(['train', 'validation'], loc='upper left')\n",
    "\n",
    "plt.show()"
   ]
  }
 ],
 "metadata": {
  "kernelspec": {
   "display_name": "Python 3.10.7 64-bit",
   "language": "python",
   "name": "python3"
  },
  "language_info": {
   "codemirror_mode": {
    "name": "ipython",
    "version": 3
   },
   "file_extension": ".py",
   "mimetype": "text/x-python",
   "name": "python",
   "nbconvert_exporter": "python",
   "pygments_lexer": "ipython3",
   "version": "3.10.7"
  },
  "orig_nbformat": 4,
  "vscode": {
   "interpreter": {
    "hash": "06d3ad103a38a5e5980b0a2ddf222334b9b3630c94a7e75a8e45e8afe280f469"
   }
  }
 },
 "nbformat": 4,
 "nbformat_minor": 2
}
